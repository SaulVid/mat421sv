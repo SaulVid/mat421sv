{
  "nbformat": 4,
  "nbformat_minor": 0,
  "metadata": {
    "colab": {
      "provenance": [],
      "authorship_tag": "ABX9TyOvXzCsSUpab9LGKlXeYe3a",
      "include_colab_link": true
    },
    "kernelspec": {
      "name": "python3",
      "display_name": "Python 3"
    },
    "language_info": {
      "name": "python"
    }
  },
  "cells": [
    {
      "cell_type": "markdown",
      "metadata": {
        "id": "view-in-github",
        "colab_type": "text"
      },
      "source": [
        "<a href=\"https://colab.research.google.com/github/SaulVid/mat421sv/blob/main/Integration_methods.ipynb\" target=\"_parent\"><img src=\"https://colab.research.google.com/assets/colab-badge.svg\" alt=\"Open In Colab\"/></a>"
      ]
    },
    {
      "cell_type": "markdown",
      "source": [
        "**Riemanns Integral**\n",
        "\n",
        "Evaluating the following integral:\n",
        "\n",
        "$ \\int_{0}^{2} 10x \\,dx$\n"
      ],
      "metadata": {
        "id": "TSdRwsN1XoRP"
      }
    },
    {
      "cell_type": "code",
      "source": [
        "import sympy as smp\n",
        "x = smp.symbols('x',real = True)\n",
        "f = 10*x\n",
        "smp.integrate(f,(x,0,5))\n"
      ],
      "metadata": {
        "colab": {
          "base_uri": "https://localhost:8080/",
          "height": 37
        },
        "id": "VGnfjtJ6phQW",
        "outputId": "0f122fa1-711c-4813-a8b6-d7e2292c8364"
      },
      "execution_count": 80,
      "outputs": [
        {
          "output_type": "execute_result",
          "data": {
            "text/plain": [
              "125"
            ],
            "text/latex": "$\\displaystyle 125$"
          },
          "metadata": {},
          "execution_count": 80
        }
      ]
    },
    {
      "cell_type": "markdown",
      "source": [
        "Sympy is able to calculate the exact solution for\n",
        "$ \\int_{0}^{2} 10x \\,dx$, which is 125. \n",
        "\n",
        "Now the exact solution can be compared to approximations using increasing step sizes.\n",
        "\n"
      ],
      "metadata": {
        "id": "g67dqP67p9Z6"
      }
    },
    {
      "cell_type": "code",
      "source": [
        "def integral(f,a,b,n):\n",
        "    delta_x = (b-a)/n\n",
        "    summation = 0\n",
        "    for i in range (1,n+1):\n",
        "      summation += f(a + (i-1)*delta_x)*delta_x\n",
        "    return summation\n",
        "\n",
        "integral(lambda x: 10*x,0,5,10)"
      ],
      "metadata": {
        "colab": {
          "base_uri": "https://localhost:8080/"
        },
        "id": "p7mL-R98nTwD",
        "outputId": "f73bb007-a198-47be-a6db-e080ad2c4096"
      },
      "execution_count": 81,
      "outputs": [
        {
          "output_type": "execute_result",
          "data": {
            "text/plain": [
              "112.5"
            ]
          },
          "metadata": {},
          "execution_count": 81
        }
      ]
    },
    {
      "cell_type": "code",
      "source": [
        "integral(lambda x:10*x,0,5,100)"
      ],
      "metadata": {
        "colab": {
          "base_uri": "https://localhost:8080/"
        },
        "id": "Si5Z8nDioL6u",
        "outputId": "74ae926f-fd56-4477-e307-cc0279caa25e"
      },
      "execution_count": 82,
      "outputs": [
        {
          "output_type": "execute_result",
          "data": {
            "text/plain": [
              "123.75"
            ]
          },
          "metadata": {},
          "execution_count": 82
        }
      ]
    },
    {
      "cell_type": "code",
      "source": [
        "integral(lambda x: 10*x,0,5,1000)"
      ],
      "metadata": {
        "colab": {
          "base_uri": "https://localhost:8080/"
        },
        "id": "H5F9GGCboMDT",
        "outputId": "b9a9991c-e1f3-4ef6-d3f8-48483f697105"
      },
      "execution_count": 83,
      "outputs": [
        {
          "output_type": "execute_result",
          "data": {
            "text/plain": [
              "124.875"
            ]
          },
          "metadata": {},
          "execution_count": 83
        }
      ]
    },
    {
      "cell_type": "code",
      "source": [
        "integral(lambda x: 10*x,0,5,10000)"
      ],
      "metadata": {
        "colab": {
          "base_uri": "https://localhost:8080/"
        },
        "id": "AEGDWGNfoMMq",
        "outputId": "69ab2462-b909-4341-a61e-5791f3c6a0e0"
      },
      "execution_count": 84,
      "outputs": [
        {
          "output_type": "execute_result",
          "data": {
            "text/plain": [
              "124.98750000000001"
            ]
          },
          "metadata": {},
          "execution_count": 84
        }
      ]
    },
    {
      "cell_type": "code",
      "source": [
        "integral(lambda x: 10*x,0,5,10000000)"
      ],
      "metadata": {
        "colab": {
          "base_uri": "https://localhost:8080/"
        },
        "id": "vepGP5i2qIqa",
        "outputId": "c7ad493b-0ee7-4e37-e738-a301f7bcb9bc"
      },
      "execution_count": 85,
      "outputs": [
        {
          "output_type": "execute_result",
          "data": {
            "text/plain": [
              "124.99998750000006"
            ]
          },
          "metadata": {},
          "execution_count": 85
        }
      ]
    },
    {
      "cell_type": "markdown",
      "source": [
        "Trapezoid Rule\n",
        "\n",
        "Using the trapezoid rule to approximate integrals\n",
        "\n",
        "Example, approximating the following integral with n=6\n",
        "\n",
        "$ \\int_{0}^{\\pi} cos^2(x) \\,dx$\n"
      ],
      "metadata": {
        "id": "I_5OYpWkXk1E"
      }
    },
    {
      "cell_type": "code",
      "source": [
        "import numpy as np\n",
        "def f(x):\n",
        "  return (np.cos(x))**2\n",
        "\n",
        "a = 0\n",
        "b = np.pi\n",
        "n = 6\n",
        "del_x=(b-a)/n\n",
        "\n",
        "sum=0\n",
        "for i in range(1,n):\n",
        "  sum = sum + del_x*f(a+i*del_x)\n",
        "trapresult = del_x/2 * (f(a)+f(b)) + sum\n",
        "\n",
        "print(trapresult)"
      ],
      "metadata": {
        "colab": {
          "base_uri": "https://localhost:8080/"
        },
        "id": "sh_EQTQKfNsb",
        "outputId": "50aad97b-7018-4e1a-eb8e-5e9b98eedc3f"
      },
      "execution_count": 86,
      "outputs": [
        {
          "output_type": "stream",
          "name": "stdout",
          "text": [
            "1.5707963267948961\n"
          ]
        }
      ]
    },
    {
      "cell_type": "code",
      "source": [
        "#finding actual value using Sympy\n",
        "\n",
        "x = smp.symbols('x',real = True)\n",
        "f = smp.cos(x)**2\n",
        "ans = smp.integrate(f,(x,0,np.pi))\n",
        "print(ans)\n",
        "\n",
        "\n"
      ],
      "metadata": {
        "colab": {
          "base_uri": "https://localhost:8080/"
        },
        "id": "42Ab7qw2jHgz",
        "outputId": "6eddc6bb-6ae6-4a7b-929a-c56ad42737ae"
      },
      "execution_count": 87,
      "outputs": [
        {
          "output_type": "stream",
          "name": "stdout",
          "text": [
            "1.57079632679490\n"
          ]
        }
      ]
    },
    {
      "cell_type": "code",
      "source": [
        "#percent error\n",
        "percent_error = abs(ans-trapresult)/ans*100\n",
        "print(percent_error)"
      ],
      "metadata": {
        "colab": {
          "base_uri": "https://localhost:8080/"
        },
        "id": "tURxES0AmP-X",
        "outputId": "ae57ac0c-25be-4c86-f599-6fb3daba21ad"
      },
      "execution_count": 88,
      "outputs": [
        {
          "output_type": "stream",
          "name": "stdout",
          "text": [
            "2.82715971685646e-14\n"
          ]
        }
      ]
    }
  ]
}