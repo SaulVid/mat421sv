{
  "nbformat": 4,
  "nbformat_minor": 0,
  "metadata": {
    "colab": {
      "provenance": [],
      "authorship_tag": "ABX9TyOfripBdM0EM2GJgFUXAoU3",
      "include_colab_link": true
    },
    "kernelspec": {
      "name": "python3",
      "display_name": "Python 3"
    },
    "language_info": {
      "name": "python"
    }
  },
  "cells": [
    {
      "cell_type": "markdown",
      "metadata": {
        "id": "view-in-github",
        "colab_type": "text"
      },
      "source": [
        "<a href=\"https://colab.research.google.com/github/SaulVid/mat421sv/blob/main/Simpsons_rule_and_computing_integrals.ipynb\" target=\"_parent\"><img src=\"https://colab.research.google.com/assets/colab-badge.svg\" alt=\"Open In Colab\"/></a>"
      ]
    },
    {
      "cell_type": "markdown",
      "source": [
        "**Simpson's Rule**\n",
        "\n",
        "Simpson's rule is a numerical method that can be used to aprroximate the value of integral that can't be solved using other methods.  It is defined by:\n",
        "\n",
        "$$ \\tag{2 }\n",
        "\\int\\limits _ { a } ^ { b }  f ( x)  dx \\cong\n",
        "$$\n",
        "\n",
        "$$ \n",
        "\\cong \\ \n",
        "{\n",
        "\\frac{h}{3}\n",
        " } \\{ f ( a) + f ( b) + 2 [ f ( x _ {2} ) + f ( x _ {4} ) +\n",
        "\\dots\n",
        "+ f ( x _ {n - 2 }  )] +\n",
        "$$\n",
        "\n",
        "$$ \n",
        "+ \n",
        "{} 4 [ f ( x _ {1} ) +\n",
        "f ( x _ {3} ) + \\dots + f ( x _ {n - 1 }  )] \\} ,\n",
        "$$\n",
        "\n",
        "\n",
        "\n",
        "Example, use simpsons rule to approximate:\n",
        "\n",
        "$ \\int\\limits _ { 0 } ^ { 5 }  x^2 + e^x +sin(x)  dx $\n",
        "\n"
      ],
      "metadata": {
        "id": "vlyj0RDZrL_g"
      }
    },
    {
      "cell_type": "code",
      "source": [
        "import numpy as np\n",
        "import math\n",
        "\n",
        "a = 0\n",
        "b = 5\n",
        "n = 5\n",
        "h = (b - a) / (n - 1)\n",
        "x = np.linspace(a, b, n)\n",
        "f = x**2 + math.e**x + np.sin(x)\n",
        "\n",
        "SIMP = (h/3) * (f[0] + 2*sum(f[:n-2:2]) \\\n",
        "            + 4*sum(f[1:n-1:2]) + f[n-1])\n",
        "\n",
        "print(SIMP)"
      ],
      "metadata": {
        "colab": {
          "base_uri": "https://localhost:8080/"
        },
        "id": "79n2Tf91qq1m",
        "outputId": "c104d5bd-643c-42ed-a81a-3bf45c7d10d7"
      },
      "execution_count": 24,
      "outputs": [
        {
          "output_type": "stream",
          "name": "stdout",
          "text": [
            "192.32148336253323\n"
          ]
        }
      ]
    },
    {
      "cell_type": "markdown",
      "source": [
        "**Computing integrals In Python**\n",
        "\n",
        "Sympy is a power tool in python to evaluate almost every integral"
      ],
      "metadata": {
        "id": "bo22ecvBymCl"
      }
    },
    {
      "cell_type": "code",
      "source": [
        "import sympy as smp\n",
        "import math\n",
        "\n",
        "x = smp.symbols('x',real = True)\n",
        "f = (x+smp.sqrt(x))**smp.Rational(2,4) / smp.sqrt(x)\n",
        "ans = smp.integrate(f,(x,0,np.pi))\n",
        "print(ans)"
      ],
      "metadata": {
        "colab": {
          "base_uri": "https://localhost:8080/"
        },
        "id": "N8oEe7LZy7oD",
        "outputId": "d0591618-27f5-40b1-9afa-59369da0ce68"
      },
      "execution_count": 42,
      "outputs": [
        {
          "output_type": "stream",
          "name": "stdout",
          "text": [
            "4.48878940746793\n"
          ]
        }
      ]
    },
    {
      "cell_type": "code",
      "source": [
        "#improper integrals\n",
        "f= smp.atan(x)/(1+x**2)\n",
        "smp.integrate(f, (x,0,np.pi,))"
      ],
      "metadata": {
        "colab": {
          "base_uri": "https://localhost:8080/",
          "height": 37
        },
        "id": "SNxz_zoc1LPQ",
        "outputId": "d39a4185-dc2a-4196-d3ab-f7711a6662ff"
      },
      "execution_count": 45,
      "outputs": [
        {
          "output_type": "execute_result",
          "data": {
            "text/plain": [
              "0.797113793391630"
            ],
            "text/latex": "$\\displaystyle 0.79711379339163$"
          },
          "metadata": {},
          "execution_count": 45
        }
      ]
    }
  ]
}