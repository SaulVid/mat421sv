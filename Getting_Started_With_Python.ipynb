{
  "nbformat": 4,
  "nbformat_minor": 0,
  "metadata": {
    "colab": {
      "provenance": [],
      "authorship_tag": "ABX9TyPZprS8nEXK3uYVoY/FkvU2",
      "include_colab_link": true
    },
    "kernelspec": {
      "name": "python3",
      "display_name": "Python 3"
    },
    "language_info": {
      "name": "python"
    }
  },
  "cells": [
    {
      "cell_type": "markdown",
      "metadata": {
        "id": "view-in-github",
        "colab_type": "text"
      },
      "source": [
        "<a href=\"https://colab.research.google.com/github/SaulVid/mat421sv/blob/main/Getting_Started_With_Python.ipynb\" target=\"_parent\"><img src=\"https://colab.research.google.com/assets/colab-badge.svg\" alt=\"Open In Colab\"/></a>"
      ]
    },
    {
      "cell_type": "markdown",
      "source": [
        "Getting Started with Python.\n",
        "\n",
        "There are several methods to run Python code. The most common way use Python code is with Python Integrated Development Environments (IDE), also called \"Code Editors\" .\n",
        "\n",
        "While it is possible to run Python code in the Command Prompt or Terminal, IDE software has pre-installed packages and other editing tools to make programming more efficient.\n",
        "\n",
        "Some popular Python IDE's include:\n",
        "\n",
        "PyCharm\n",
        "\n",
        "VS Code\n",
        "\n",
        "Atom \n",
        "\n",
        "Jupyter Notebook (Browser based)\n",
        "\n",
        "IDLE\n",
        "\n",
        "Visual Studio Code\n",
        "\n",
        "Thonny\n",
        "\n",
        "\n",
        "\n",
        "These are well-known software that have community support and tutorials online, plus they are intituive to install and run."
      ],
      "metadata": {
        "id": "7NLtlJe9mvPE"
      }
    },
    {
      "cell_type": "markdown",
      "source": [
        "Once you have installed Python, It is important be familiar with basic Python arithmetic for calculations. "
      ],
      "metadata": {
        "id": "oqHTPvwvX6Kz"
      }
    },
    {
      "cell_type": "code",
      "source": [
        "import math\n",
        "\n",
        "x = 2\n",
        "y = 4\n",
        "z = 6\n",
        "\n",
        "print(x+y) #Addition\n",
        "print(x-y) #Subtraction\n",
        "print(x*y) #Multiplication \n",
        "print(z/x) #Division\n",
        "print(math.sqrt(y)) #Square Root\n",
        "print (x**2)  #Exponentional \n"
      ],
      "metadata": {
        "colab": {
          "base_uri": "https://localhost:8080/"
        },
        "id": "SG0QlvKnmxjF",
        "outputId": "30495f2f-2e84-4bd9-f0bb-dc48d24addb8"
      },
      "execution_count": 96,
      "outputs": [
        {
          "output_type": "stream",
          "name": "stdout",
          "text": [
            "6\n",
            "-2\n",
            "8\n",
            "3.0\n",
            "2.0\n",
            "4\n"
          ]
        }
      ]
    },
    {
      "cell_type": "markdown",
      "source": [],
      "metadata": {
        "id": "O1cbuCmVXtcP"
      }
    },
    {
      "cell_type": "markdown",
      "source": [
        "Errors and limitations"
      ],
      "metadata": {
        "id": "OcPVnCK97_tX"
      }
    },
    {
      "cell_type": "code",
      "source": [
        "import math\n",
        "\n",
        "\n",
        "x=10\n",
        "y=-5\n",
        "print(math.sqrt(y)) #attempting to take the square root of a negative number will prompt a domain error\n",
        "print(x/0)  #Attempting to divide by zero will prompt an Error in Python"
      ],
      "metadata": {
        "colab": {
          "base_uri": "https://localhost:8080/",
          "height": 217
        },
        "id": "oBS-XDmU8Dqc",
        "outputId": "f6256d1f-071d-4fa3-dd0c-2fd903764bf8"
      },
      "execution_count": 25,
      "outputs": [
        {
          "output_type": "error",
          "ename": "ValueError",
          "evalue": "ignored",
          "traceback": [
            "\u001b[0;31m---------------------------------------------------------------------------\u001b[0m",
            "\u001b[0;31mValueError\u001b[0m                                Traceback (most recent call last)",
            "\u001b[0;32m<ipython-input-25-ecc473dba6f7>\u001b[0m in \u001b[0;36m<module>\u001b[0;34m\u001b[0m\n\u001b[1;32m      4\u001b[0m \u001b[0mx\u001b[0m\u001b[0;34m=\u001b[0m\u001b[0;36m10\u001b[0m\u001b[0;34m\u001b[0m\u001b[0;34m\u001b[0m\u001b[0m\n\u001b[1;32m      5\u001b[0m \u001b[0my\u001b[0m\u001b[0;34m=\u001b[0m\u001b[0;34m-\u001b[0m\u001b[0;36m5\u001b[0m\u001b[0;34m\u001b[0m\u001b[0;34m\u001b[0m\u001b[0m\n\u001b[0;32m----> 6\u001b[0;31m \u001b[0mprint\u001b[0m\u001b[0;34m(\u001b[0m\u001b[0mmath\u001b[0m\u001b[0;34m.\u001b[0m\u001b[0msqrt\u001b[0m\u001b[0;34m(\u001b[0m\u001b[0my\u001b[0m\u001b[0;34m)\u001b[0m\u001b[0;34m)\u001b[0m\u001b[0;34m\u001b[0m\u001b[0;34m\u001b[0m\u001b[0m\n\u001b[0m\u001b[1;32m      7\u001b[0m \u001b[0mprint\u001b[0m\u001b[0;34m(\u001b[0m\u001b[0mx\u001b[0m\u001b[0;34m/\u001b[0m\u001b[0;36m0\u001b[0m\u001b[0;34m)\u001b[0m  \u001b[0;31m#Attempting to divide by zero will prompt an Error in Python, as well as inputs for functions which restricted domains\u001b[0m\u001b[0;34m\u001b[0m\u001b[0;34m\u001b[0m\u001b[0m\n",
            "\u001b[0;31mValueError\u001b[0m: math domain error"
          ]
        }
      ]
    },
    {
      "cell_type": "code",
      "source": [
        "import math\n",
        "x = 10\n",
        "#Python has commands for infinity, which can be useful later to compute limits.\n",
        "print(x/math.inf)\n",
        "print(math.inf/x) \n",
        "print(math.inf/math.inf)"
      ],
      "metadata": {
        "colab": {
          "base_uri": "https://localhost:8080/"
        },
        "id": "OKAOzuQW8a_h",
        "outputId": "0e7607b8-78aa-47ae-aa52-36f5bea43bf2"
      },
      "execution_count": 9,
      "outputs": [
        {
          "output_type": "stream",
          "name": "stdout",
          "text": [
            "0.0\n",
            "inf\n",
            "nan\n"
          ]
        }
      ]
    },
    {
      "cell_type": "markdown",
      "source": [
        "Complex Numbers.\n",
        "\n",
        "A powerful tool of python is it's ability to work with complex numbers.\n",
        "This can be applied to several Numerical Methods, i.e finding complex roots of characteristic euqations, which are useful when finding solutions to differential equations. \n",
        "\n",
        "Below are two examples of using Python syntax to solve for roots in a quadratic, which can result in distict roots, or complex roots. "
      ],
      "metadata": {
        "id": "CEyOuVNS9f93"
      }
    },
    {
      "cell_type": "code",
      "source": [
        "import math\n",
        "import cmath\n",
        "\n",
        "a = 1\n",
        "b = 2\n",
        "c = 0\n",
        "\n",
        "#x = -b+- Sqrt(-b^2 -4ac)/2a\n",
        "#discriminant \n",
        "\n",
        "disc = (b*b - 4*a*c)\n",
        "print(disc)\n",
        "\n",
        "if disc < 0:\n",
        "   root1 = (-b + c.math.sqrt(disc))/(2*a) #cmath.sqrt(x) computes square roots of negative numbers to produce complex numbers\n",
        "   root2 = (-b - c.math.sqrt(disc))/(2*a)\n",
        "   print(root1)\n",
        "   print(root2)\n",
        "\n",
        "elif disc > 0:\n",
        "  root1 = (-b + math.sqrt(disc))/(2*a)\n",
        "  root2 = (-b - math.sqrt(disc))/(2*a)\n",
        "  print(root1)\n",
        "  print(root2)\n",
        "\n",
        "elif disc == 0:\n",
        "  root1 = (-b + math.sqrt(disc))/(2*a)\n",
        "  root2 = (-b - math.sqrt(disc))/(2*a)\n",
        "  print(root1)\n",
        "  print(root2)\n",
        "\n",
        "#since the the discrimiant is greater than or equal to zero, real roots are produced. \n"
      ],
      "metadata": {
        "colab": {
          "base_uri": "https://localhost:8080/"
        },
        "id": "p7Af2p36-GZ8",
        "outputId": "35703eea-b6ca-4ae1-ca09-56e4a7146945"
      },
      "execution_count": 84,
      "outputs": [
        {
          "output_type": "stream",
          "name": "stdout",
          "text": [
            "4\n",
            "0.0\n",
            "-2.0\n"
          ]
        }
      ]
    },
    {
      "cell_type": "code",
      "source": [
        "import math\n",
        "import cmath\n",
        "\n",
        "a = 1\n",
        "b = 4\n",
        "c = 8\n",
        "\n",
        "disc = (b*b - 4*a*c)\n",
        "\n",
        "if disc < 0:\n",
        "   root1 = (-b + cmath.sqrt(disc))/(2*a) #cmath.sqrt(x) computes square roots of negative numbers to produce complex numbers\n",
        "   root2 = (-b - cmath.sqrt(disc))/(2*a)\n",
        "   print(root1)\n",
        "   print(root2)\n",
        "\n",
        "elif disc > 0:\n",
        "  root1 = (-b + math.sqrt(disc))/(2*a)\n",
        "  root2 = (-b - math.sqrt(disc))/(2*a)\n",
        "  print(root1)\n",
        "  print(root2)\n",
        "\n",
        "elif disc == 0:\n",
        "  root1 = (-b + math.sqrt(disc))/(2*a)\n",
        "  root2 = (-b - math.sqrt(disc))/(2*a)\n",
        "  print(root1)\n",
        "  print(root2)\n",
        "\n",
        "##since the the discrimiant is less than zero, complex roots are produced.\n"
      ],
      "metadata": {
        "colab": {
          "base_uri": "https://localhost:8080/"
        },
        "id": "usiBWlyKDLVI",
        "outputId": "203070ef-9bd7-4288-e57b-94fa9854ad8f"
      },
      "execution_count": 94,
      "outputs": [
        {
          "output_type": "stream",
          "name": "stdout",
          "text": [
            "(-2+2j)\n",
            "(-2-2j)\n"
          ]
        }
      ]
    },
    {
      "cell_type": "markdown",
      "source": [
        "The  \"type\" function can be used to determine whether a particular variable is an int, float, or complex"
      ],
      "metadata": {
        "id": "LTWbuAtLJSon"
      }
    },
    {
      "cell_type": "code",
      "source": [
        "import math\n",
        "import cmath\n",
        "\n",
        "x = 1\n",
        "y = 2.0\n",
        "z = -4\n",
        "\n",
        "print(type(x))\n",
        "print(type(y))\n",
        "print(type(cmath.sqrt(z)))"
      ],
      "metadata": {
        "colab": {
          "base_uri": "https://localhost:8080/"
        },
        "id": "gSVXg782Ji0t",
        "outputId": "aee9457b-10bb-4078-bba0-e2edb6444026"
      },
      "execution_count": 97,
      "outputs": [
        {
          "output_type": "stream",
          "name": "stdout",
          "text": [
            "<class 'int'>\n",
            "<class 'float'>\n",
            "<class 'complex'>\n"
          ]
        }
      ]
    },
    {
      "cell_type": "markdown",
      "source": [
        "Managing Python Packages\n",
        "\n",
        "Python is one of the most popular programming languages and has a passionate community with countless packages developed.\n",
        "\n",
        "While most common packages more pre-installed, there are others that can be manually added by the User. The process for doing this varies on how the user is running their Python code. "
      ],
      "metadata": {
        "id": "B5TKPm8Va2GK"
      }
    }
  ]
}