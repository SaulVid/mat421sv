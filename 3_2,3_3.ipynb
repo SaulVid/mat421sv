{
  "nbformat": 4,
  "nbformat_minor": 0,
  "metadata": {
    "colab": {
      "provenance": [],
      "authorship_tag": "ABX9TyMkA6mKbS9UxNN5rr+jNVU5",
      "include_colab_link": true
    },
    "kernelspec": {
      "name": "python3",
      "display_name": "Python 3"
    },
    "language_info": {
      "name": "python"
    }
  },
  "cells": [
    {
      "cell_type": "markdown",
      "metadata": {
        "id": "view-in-github",
        "colab_type": "text"
      },
      "source": [
        "<a href=\"https://colab.research.google.com/github/SaulVid/mat421sv/blob/main/3_2%2C3_3.ipynb\" target=\"_parent\"><img src=\"https://colab.research.google.com/assets/colab-badge.svg\" alt=\"Open In Colab\"/></a>"
      ]
    },
    {
      "cell_type": "markdown",
      "source": [
        "Continuity and differentiation "
      ],
      "metadata": {
        "id": "38gV0Sd54iB8"
      }
    },
    {
      "cell_type": "markdown",
      "source": [
        "Printing basic functions in Python with sympy"
      ],
      "metadata": {
        "id": "TBwZR2VoGXd7"
      }
    },
    {
      "cell_type": "code",
      "source": [
        "import sympy as smp\n",
        "from sympy import *\n",
        "\n",
        "x =  smp.symbols('x')\n",
        "\n"
      ],
      "metadata": {
        "id": "9Jm7DTj-4ocF"
      },
      "execution_count": null,
      "outputs": []
    },
    {
      "cell_type": "code",
      "source": [
        "x**3"
      ],
      "metadata": {
        "colab": {
          "base_uri": "https://localhost:8080/",
          "height": 39
        },
        "id": "ZcAYmVckDfJS",
        "outputId": "5e1f5d14-875c-4e1d-9c2a-4648333f09f5"
      },
      "execution_count": null,
      "outputs": [
        {
          "output_type": "execute_result",
          "data": {
            "text/plain": [
              "x**3"
            ],
            "text/latex": "$\\displaystyle x^{3}$"
          },
          "metadata": {},
          "execution_count": 129
        }
      ]
    },
    {
      "cell_type": "code",
      "source": [
        "x**(5/2) #Note that Python will convert the exponent to decimal notation\n"
      ],
      "metadata": {
        "colab": {
          "base_uri": "https://localhost:8080/",
          "height": 39
        },
        "id": "mTLrKo7_Gfme",
        "outputId": "eb7175d9-ea54-4d21-f406-0e9431374161"
      },
      "execution_count": null,
      "outputs": [
        {
          "output_type": "execute_result",
          "data": {
            "text/plain": [
              "x**2.5"
            ],
            "text/latex": "$\\displaystyle x^{2.5}$"
          },
          "metadata": {},
          "execution_count": 130
        }
      ]
    },
    {
      "cell_type": "code",
      "source": [
        "x**(smp.Rational(5,2)) #To avoid this, we can use  the \"smp.Rational(numberator,denominator)\" function of sympy, Python will keep the exponent as a rational number."
      ],
      "metadata": {
        "colab": {
          "base_uri": "https://localhost:8080/",
          "height": 40
        },
        "id": "v87H4TYhGgRL",
        "outputId": "288943d9-2a3b-4f5d-8b0a-525f04a615fb"
      },
      "execution_count": null,
      "outputs": [
        {
          "output_type": "execute_result",
          "data": {
            "text/plain": [
              "x**(5/2)"
            ],
            "text/latex": "$\\displaystyle x^{\\frac{5}{2}}$"
          },
          "metadata": {},
          "execution_count": 89
        }
      ]
    },
    {
      "cell_type": "code",
      "source": [
        "smp.sin(x) "
      ],
      "metadata": {
        "colab": {
          "base_uri": "https://localhost:8080/",
          "height": 39
        },
        "id": "z-9IgPsXDf2m",
        "outputId": "0f264aa1-24c4-4232-86c4-cc932affbd6a"
      },
      "execution_count": null,
      "outputs": [
        {
          "output_type": "execute_result",
          "data": {
            "text/plain": [
              "sin(x)"
            ],
            "text/latex": "$\\displaystyle \\sin{\\left(x \\right)}$"
          },
          "metadata": {},
          "execution_count": 90
        }
      ]
    },
    {
      "cell_type": "code",
      "source": [
        "smp.cos(x)"
      ],
      "metadata": {
        "colab": {
          "base_uri": "https://localhost:8080/",
          "height": 39
        },
        "id": "GtF58ktNDgBB",
        "outputId": "c26661a4-939f-4566-e8f3-ba7199669136"
      },
      "execution_count": null,
      "outputs": [
        {
          "output_type": "execute_result",
          "data": {
            "text/plain": [
              "cos(x)"
            ],
            "text/latex": "$\\displaystyle \\cos{\\left(x \\right)}$"
          },
          "metadata": {},
          "execution_count": 91
        }
      ]
    },
    {
      "cell_type": "code",
      "source": [
        "smp.exp(x)"
      ],
      "metadata": {
        "colab": {
          "base_uri": "https://localhost:8080/",
          "height": 39
        },
        "id": "dt5wWn9KCCnj",
        "outputId": "9d5c6c80-7767-476c-a408-b65ac0decd55"
      },
      "execution_count": null,
      "outputs": [
        {
          "output_type": "execute_result",
          "data": {
            "text/plain": [
              "exp(x)"
            ],
            "text/latex": "$\\displaystyle e^{x}$"
          },
          "metadata": {},
          "execution_count": 92
        }
      ]
    },
    {
      "cell_type": "code",
      "source": [
        "smp.log(x)"
      ],
      "metadata": {
        "colab": {
          "base_uri": "https://localhost:8080/",
          "height": 39
        },
        "id": "-FVrlrbFFFrG",
        "outputId": "cdcc0d0e-e2e2-43b5-bbc1-ed9a6c9b18ef"
      },
      "execution_count": null,
      "outputs": [
        {
          "output_type": "execute_result",
          "data": {
            "text/plain": [
              "log(x)"
            ],
            "text/latex": "$\\displaystyle \\log{\\left(x \\right)}$"
          },
          "metadata": {},
          "execution_count": 125
        }
      ]
    },
    {
      "cell_type": "markdown",
      "source": [
        "Solving Limits:\n",
        "\n",
        "Python can take the limit of a function using the \"smp.limit( )\" operator. \n",
        "\n",
        "Example:\n",
        "\n",
        "$\\lim_{x\\to 0} \\frac{sin(x)}{cos(x)}$\n",
        "\n",
        "\n"
      ],
      "metadata": {
        "id": "zhfijR3zHBlw"
      }
    },
    {
      "cell_type": "code",
      "source": [
        "smp.limit(smp.sin(x)/smp.cos(x) ,x , 0) #note that the \",x , 0\" syntax at the end denonates \"as x goes to 0\""
      ],
      "metadata": {
        "colab": {
          "base_uri": "https://localhost:8080/",
          "height": 37
        },
        "id": "PxAFcc5NH6we",
        "outputId": "9ae8f648-99b5-4b25-a130-b1ae5b8a806f"
      },
      "execution_count": null,
      "outputs": [
        {
          "output_type": "execute_result",
          "data": {
            "text/plain": [
              "0"
            ],
            "text/latex": "$\\displaystyle 0$"
          },
          "metadata": {},
          "execution_count": 100
        }
      ]
    },
    {
      "cell_type": "markdown",
      "source": [
        "Another example, taking the limit of this function as x goes to pi:\n",
        "\n",
        "$\\lim_{x\\to pi}\\frac{x}{cos(x)}$\n",
        "\n"
      ],
      "metadata": {
        "id": "_bnRzFAWRIL9"
      }
    },
    {
      "cell_type": "code",
      "source": [
        "smp.limit(x/smp.cos(x) ,x , smp.pi)"
      ],
      "metadata": {
        "colab": {
          "base_uri": "https://localhost:8080/",
          "height": 39
        },
        "id": "Beuidkm_I6WH",
        "outputId": "5ce2ffc6-4bb4-4acb-df65-3310ddc271b5"
      },
      "execution_count": null,
      "outputs": [
        {
          "output_type": "execute_result",
          "data": {
            "text/plain": [
              "-pi"
            ],
            "text/latex": "$\\displaystyle - \\pi$"
          },
          "metadata": {},
          "execution_count": 97
        }
      ]
    },
    {
      "cell_type": "markdown",
      "source": [
        "Now as x goes to infinity :\n",
        "\n",
        "$\\lim_{x\\to \\infty}\\frac{x}{cos(x)}$"
      ],
      "metadata": {
        "id": "3JoT3no9XVxh"
      }
    },
    {
      "cell_type": "code",
      "source": [
        "\n",
        "smp.limit((smp.sin(x))/x, x, smp.oo)"
      ],
      "metadata": {
        "colab": {
          "base_uri": "https://localhost:8080/",
          "height": 37
        },
        "id": "E04QHX4UCVdn",
        "outputId": "7f3a01bf-290c-402b-bc63-b782c84c0c92"
      },
      "execution_count": null,
      "outputs": [
        {
          "output_type": "execute_result",
          "data": {
            "text/plain": [
              "0"
            ],
            "text/latex": "$\\displaystyle 0$"
          },
          "metadata": {},
          "execution_count": 98
        }
      ]
    },
    {
      "cell_type": "markdown",
      "source": [
        "**Taking Derivatives using Python**\n",
        "\n",
        "Consider the following function:\n",
        "\n",
        "$f(x) = x^3 + e^x + sin(x)$\n",
        "\n",
        "We can find $f'(x)$ in python using the smp.diff() operator.\n"
      ],
      "metadata": {
        "id": "p7vjiAYhM_Ft"
      }
    },
    {
      "cell_type": "code",
      "source": [
        "smp.diff(smp.sin(x)+x**3 + smp.exp(x)) "
      ],
      "metadata": {
        "colab": {
          "base_uri": "https://localhost:8080/",
          "height": 39
        },
        "id": "aAVQftN0NO0p",
        "outputId": "a9b55106-1aa6-4203-e233-0430fdc20ba2"
      },
      "execution_count": null,
      "outputs": [
        {
          "output_type": "execute_result",
          "data": {
            "text/plain": [
              "3*x**2 + exp(x) + cos(x)"
            ],
            "text/latex": "$\\displaystyle 3 x^{2} + e^{x} + \\cos{\\left(x \\right)}$"
          },
          "metadata": {},
          "execution_count": 124
        }
      ]
    },
    {
      "cell_type": "markdown",
      "source": [
        "Another example of smp.diff() using the product rule:\n",
        "\n",
        "$f(x)  = x^2 e^{2x}$"
      ],
      "metadata": {
        "id": "DQ6f5kvQS72v"
      }
    },
    {
      "cell_type": "code",
      "source": [
        "\n",
        "\n",
        "smp.diff(x**2*smp.exp(2*x))"
      ],
      "metadata": {
        "colab": {
          "base_uri": "https://localhost:8080/",
          "height": 39
        },
        "id": "wNR_t4f1OW0N",
        "outputId": "613c82f8-69a3-4465-aa1a-5ee294e6f12b"
      },
      "execution_count": null,
      "outputs": [
        {
          "output_type": "execute_result",
          "data": {
            "text/plain": [
              "2*x**2*exp(2*x) + 2*x*exp(2*x)"
            ],
            "text/latex": "$\\displaystyle 2 x^{2} e^{2 x} + 2 x e^{2 x}$"
          },
          "metadata": {},
          "execution_count": 128
        }
      ]
    },
    {
      "cell_type": "markdown",
      "source": [
        "$f'(x) = 2x^2e^{2x} +2xe^{2x}$"
      ],
      "metadata": {
        "id": "euYXdIABTs7B"
      }
    },
    {
      "cell_type": "markdown",
      "source": [
        "**Optimization Example**\n",
        "\n",
        "Minimize: $x_1(x_1+x_2+x_3)+x_4$ \n",
        "\n",
        "such that $x_1 x_2 x_3 x_4 \\ge 30$\n",
        "\n",
        "when $x^2_1+x^2_2+x^2_3+x^2_4 = 50$\n",
        "\n",
        "and\n",
        "\n",
        "$1\\le x_1,x_2,x_3,x_4 \\le 5$\n",
        "\n",
        "for\n",
        "\n",
        "$x_0 = (4,1,1,0)$\n"
      ],
      "metadata": {
        "id": "20ZDVF6aWNO2"
      }
    },
    {
      "cell_type": "code",
      "source": [
        "import numpy as np\n",
        "from scipy.optimize  import minimize\n",
        "\n",
        "def function (x):\n",
        "  x1 = x[0]\n",
        "  x2 = x[1]\n",
        "  x3 = x[2]\n",
        "  x4 = x[3]\n",
        "  return x1*(x1+x2+x3)+x4\n",
        "\n",
        "def constraint1(x):\n",
        "  return x[0]*x[1]*x[2]+x[3]-30.0\n",
        "\n",
        "def constraint2(x):\n",
        "  sum_sq = 50\n",
        "  for i in range (4):\n",
        "    sum_sq = sum_sq -x[i]**2\n",
        "    return sum_sq\n",
        "\n",
        "x0 = [4,1,1,0]\n",
        "print('Testing for ' + str(function(x0)))\n",
        "\n",
        "domain = (1.0,5.0)\n",
        "bnds = (b,b,b,b)\n",
        "rule1 = {'type': 'ineq', 'fun': constraint1}\n",
        "rule2 = {'type': 'eq', 'fun': constraint2}\n",
        "fr =([rule1,rule2])\n",
        "\n",
        "soln = minimize(function,x0,method='SLSQP',\\\n",
        "                    bounds=bnds,constraints=fr)\n",
        "x = soln.x\n",
        "\n",
        "print('Actual is ' + str(function(x)))"
      ],
      "metadata": {
        "colab": {
          "base_uri": "https://localhost:8080/"
        },
        "id": "UkKExwKkWQzR",
        "outputId": "bd036075-5aa2-4b11-8e5f-c55d9592d117"
      },
      "execution_count": 176,
      "outputs": [
        {
          "output_type": "stream",
          "name": "stdout",
          "text": [
            "Testing for 24\n",
            "Actual is 39.97893204555824\n"
          ]
        }
      ]
    },
    {
      "cell_type": "code",
      "source": [],
      "metadata": {
        "id": "IDUswexFjRC6"
      },
      "execution_count": null,
      "outputs": []
    }
  ]
}