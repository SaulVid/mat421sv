{
  "nbformat": 4,
  "nbformat_minor": 0,
  "metadata": {
    "colab": {
      "provenance": [],
      "authorship_tag": "ABX9TyPIU/I4XRG8XlufiCbb/FA9",
      "include_colab_link": true
    },
    "kernelspec": {
      "name": "python3",
      "display_name": "Python 3"
    },
    "language_info": {
      "name": "python"
    }
  },
  "cells": [
    {
      "cell_type": "markdown",
      "metadata": {
        "id": "view-in-github",
        "colab_type": "text"
      },
      "source": [
        "<a href=\"https://colab.research.google.com/github/SaulVid/mat421sv/blob/main/representation_of_numbers_in_python.ipynb\" target=\"_parent\"><img src=\"https://colab.research.google.com/assets/colab-badge.svg\" alt=\"Open In Colab\"/></a>"
      ]
    },
    {
      "cell_type": "markdown",
      "source": [
        "**Chapter 9**\n",
        "\n",
        "Section 9.1 shows two ways to represent numbers. Base 10 and Base 2 numbers. Base 10 Numbers are known as decimal numbers (0123456789) and binary numbers are known as Base 2 (01)\n",
        "\n",
        "There are ways to convert decimal to binary and vice versa in Python:\n",
        "For example:"
      ],
      "metadata": {
        "id": "zcEETo0fnal5"
      }
    },
    {
      "cell_type": "code",
      "source": [
        "##Asks user to input decimal number and converts it to binary\n",
        "def BinaryToDec (x):\n",
        "    y = bin(x)\n",
        "    return y\n",
        "z = int(input(\"Enter a decimal number\"))\n",
        "print(BinaryToDec(z))"
      ],
      "metadata": {
        "colab": {
          "base_uri": "https://localhost:8080/"
        },
        "id": "om_EOyVWq7s2",
        "outputId": "fb70c40f-9727-4d97-9bc8-212899dcf9d6"
      },
      "execution_count": null,
      "outputs": [
        {
          "output_type": "stream",
          "name": "stdout",
          "text": [
            "Enter a decimal number7\n",
            "0b111\n"
          ]
        }
      ]
    },
    {
      "cell_type": "code",
      "source": [
        "##Asks user to input binary number and converts it to decimal\n",
        "\n",
        "binarynum = input(\"Enter a binary number\")\n",
        "DectoBin = int(binarynum,2)\n",
        "print(DectoBin)"
      ],
      "metadata": {
        "colab": {
          "base_uri": "https://localhost:8080/"
        },
        "id": "10swtw0ssyOt",
        "outputId": "f9cffd88-1eb9-4ff1-d52b-d98e03c11a2c"
      },
      "execution_count": null,
      "outputs": [
        {
          "output_type": "stream",
          "name": "stdout",
          "text": [
            "Enter a binary number10010\n",
            "18\n"
          ]
        }
      ]
    },
    {
      "cell_type": "markdown",
      "source": [
        "Using basic python operations, adding, subtracting, and multiplication binary numbers is possible."
      ],
      "metadata": {
        "id": "SM3Wh6-OwONQ"
      }
    },
    {
      "cell_type": "code",
      "source": [
        "a = 0b10 #decimal for 2\n",
        "b = 0b111  #decimal for 7\n",
        "c = (a + b)*2 #(2+7) = 9, then 9*2 should result in 18.\n",
        "\n",
        "print(f\"{c:b}\")  #print solution in binary\n",
        "print(c)        #print solution in decimal\n"
      ],
      "metadata": {
        "colab": {
          "base_uri": "https://localhost:8080/"
        },
        "id": "VaMSf76MxAWW",
        "outputId": "f07dd6fb-a371-4abf-af8b-5eebcabd5ef9"
      },
      "execution_count": null,
      "outputs": [
        {
          "output_type": "stream",
          "name": "stdout",
          "text": [
            "10010\n",
            "18\n"
          ]
        }
      ]
    },
    {
      "cell_type": "markdown",
      "source": [
        "Section 9.2 \n",
        "This section covers the concepts for Floating point numbers. Like Scientific notation can be used to shorten decimal numbers, Floating point numbers, or \"flots\" for short, are shortend binary numbers. Floats distribute bits in three different sections. Sign indiction, which tells us the if a number is positive or negative. Chracteristic/Exponent, which is raising the number to the power of 2, and fraction, the coefficient of the exponent. "
      ],
      "metadata": {
        "id": "aJLvsrnU0hOv"
      }
    },
    {
      "cell_type": "code",
      "source": [
        "## using the package numpy as np, we can determine the gap at any floating point number\n",
        "import numpy as np\n",
        "x = np.spacing(1e6)\n",
        "y = 1e6 == (1e6 + np.spacing(1e6)/3)\n",
        "\n",
        "print(x)\n",
        "print(y)\n"
      ],
      "metadata": {
        "colab": {
          "base_uri": "https://localhost:8080/"
        },
        "id": "o6ddvkUsBB37",
        "outputId": "5674fa50-5cab-4818-9820-4dfd598a44aa"
      },
      "execution_count": null,
      "outputs": [
        {
          "output_type": "stream",
          "name": "stdout",
          "text": [
            "1.1641532182693481e-10\n",
            "True\n"
          ]
        }
      ]
    },
    {
      "cell_type": "code",
      "source": [
        "## if the number is largest than the largest Float, then python will result in over flow\n",
        "print(1.00e1000)\n",
        "\n",
        "##likewise, smallesr numbers will result in underflow\n",
        "print(2**-2000)\n"
      ],
      "metadata": {
        "id": "Fo17F14qDE5M",
        "colab": {
          "base_uri": "https://localhost:8080/"
        },
        "outputId": "2e1d0933-3c83-4569-f809-5247df23d006"
      },
      "execution_count": null,
      "outputs": [
        {
          "output_type": "stream",
          "name": "stdout",
          "text": [
            "inf\n",
            "0.0\n"
          ]
        }
      ]
    },
    {
      "cell_type": "markdown",
      "source": [
        "**Section 9.3**\n",
        "In the previous section, it was determined that numbers cannot be stored to precision because of storage limitations. This section reveals the difference between the theoretical value of a number minus it's computational value, otherwise known as Round-off error. "
      ],
      "metadata": {
        "id": "DBO8ScWmEful"
      }
    },
    {
      "cell_type": "code",
      "source": [
        "## In theory, the 2.5-2.235 should result in 0.265\n",
        "print(2.5-2.235)\n",
        "##this results in 0.2650000000000001 because a floating point number cannot be storred."
      ],
      "metadata": {
        "id": "r-m7gVQNFmQG",
        "colab": {
          "base_uri": "https://localhost:8080/"
        },
        "outputId": "3ff899f3-7f2d-417d-f376-dc8ef69de29b"
      },
      "execution_count": null,
      "outputs": [
        {
          "output_type": "stream",
          "name": "stdout",
          "text": [
            "0.2650000000000001\n"
          ]
        }
      ]
    },
    {
      "cell_type": "code",
      "source": [
        "print(2.5-2.235 == 0.265) ## proves statement above\n",
        "print(2.5-2.235==0.2650000000000001)"
      ],
      "metadata": {
        "colab": {
          "base_uri": "https://localhost:8080/"
        },
        "id": "hr9PkwpYIp3S",
        "outputId": "5cdfd133-9999-401e-fa65-54aba728fc63"
      },
      "execution_count": null,
      "outputs": [
        {
          "output_type": "stream",
          "name": "stdout",
          "text": [
            "False\n",
            "True\n"
          ]
        }
      ]
    },
    {
      "cell_type": "code",
      "source": [
        "##Although round off errors seem insignificant at first glance, they are magnified over long calculations\n",
        "\n",
        "def function(iterations):\n",
        "    result = 1\n",
        "    for i in range(iterations):\n",
        "        result += 1/10\n",
        "    for i in range(iterations):\n",
        "        result -= 1/10\n",
        "    return result\n",
        "\n",
        "print(function(100))\n",
        "print(function(10000))\n",
        "print(function(100000))\n",
        "print(function(1000000))\n",
        "print(function(10000000))\n",
        "\n",
        "\n"
      ],
      "metadata": {
        "colab": {
          "base_uri": "https://localhost:8080/"
        },
        "id": "Ma8k2WVALhcm",
        "outputId": "61460f46-776d-4d8e-9258-3eda2faf65df"
      },
      "execution_count": null,
      "outputs": [
        {
          "output_type": "stream",
          "name": "stdout",
          "text": [
            "1.0000000000000009\n",
            "0.9999999999999561\n",
            "0.9999999999998425\n",
            "1.000000000003479\n",
            "0.9999999999598176\n"
          ]
        }
      ]
    }
  ]
}